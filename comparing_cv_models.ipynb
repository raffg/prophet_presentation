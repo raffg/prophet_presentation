{
 "cells": [
  {
   "cell_type": "markdown",
   "metadata": {
    "id": "FCeMxettxsR3"
   },
   "source": [
    "# Facebook Prophet Colab"
   ]
  },
  {
   "cell_type": "code",
   "execution_count": 1,
   "metadata": {
    "id": "pYGBahZ3xsR9"
   },
   "outputs": [],
   "source": [
    "# Basic imports for loading data and plotting\n",
    "import pandas as pd\n",
    "import matplotlib.pyplot as plt\n",
    "\n",
    "# For saving and importing serialized model\n",
    "import json\n",
    "import urllib.request\n",
    "\n",
    "# Prophet imports\n",
    "from prophet import Prophet\n",
    "from prophet.diagnostics import cross_validation\n",
    "from prophet.plot import add_changepoints_to_plot\n",
    "# from prophet.plot import plot_cross_validation_metric\n",
    "from prophet.plot import plot_forecast_component\n",
    "from prophet.plot import plot_seasonality\n",
    "from prophet.serialize import model_to_json, model_from_json"
   ]
  },
  {
   "cell_type": "code",
   "execution_count": 2,
   "metadata": {},
   "outputs": [],
   "source": [
    "from prophet.diagnostics import performance_metrics\n",
    "import numpy as np\n",
    "\n",
    "def plot_cross_validation_metric(\n",
    "    df_cv, metric, rolling_window=0.1, ax=None, figsize=(10, 6), color='b',\n",
    "    point_color='gray'):\n",
    "    \"\"\"Plot a performance metric vs. forecast horizon from cross validation.\n",
    "\n",
    "    Cross validation produces a collection of out-of-sample model predictions\n",
    "    that can be compared to actual values, at a range of different horizons\n",
    "    (distance from the cutoff). This computes a specified performance metric\n",
    "    for each prediction, and aggregated over a rolling window with horizon.\n",
    "\n",
    "    This uses prophet.diagnostics.performance_metrics to compute the metrics.\n",
    "    Valid values of metric are 'mse', 'rmse', 'mae', 'mape', and 'coverage'.\n",
    "\n",
    "    rolling_window is the proportion of data included in the rolling window of\n",
    "    aggregation. The default value of 0.1 means 10% of data are included in the\n",
    "    aggregation for computing the metric.\n",
    "\n",
    "    As a concrete example, if metric='mse', then this plot will show the\n",
    "    squared error for each cross validation prediction, along with the MSE\n",
    "    averaged over rolling windows of 10% of the data.\n",
    "\n",
    "    Parameters\n",
    "    ----------\n",
    "    df_cv: The output from prophet.diagnostics.cross_validation.\n",
    "    metric: Metric name, one of ['mse', 'rmse', 'mae', 'mape', 'coverage'].\n",
    "    rolling_window: Proportion of data to use for rolling average of metric.\n",
    "        In [0, 1]. Defaults to 0.1.\n",
    "    ax: Optional matplotlib axis on which to plot. If not given, a new figure\n",
    "        will be created.\n",
    "    figsize: Optional tuple width, height in inches.\n",
    "    color: Optional color for plot and error points, useful when plotting\n",
    "        multiple model performances on one axis for comparison.\n",
    "\n",
    "    Returns\n",
    "    -------\n",
    "    a matplotlib figure.\n",
    "    \"\"\"\n",
    "    if ax is None:\n",
    "        fig = plt.figure(facecolor='w', figsize=figsize)\n",
    "        ax = fig.add_subplot(111)\n",
    "    else:\n",
    "        fig = ax.get_figure()\n",
    "    # Get the metric at the level of individual predictions, and with the rolling window.\n",
    "    df_none = performance_metrics(df_cv, metrics=[metric], rolling_window=-1)\n",
    "    df_h = performance_metrics(df_cv, metrics=[metric], rolling_window=rolling_window)\n",
    "\n",
    "    # Some work because matplotlib does not handle timedelta\n",
    "    # Target ~10 ticks.\n",
    "    tick_w = max(df_none['horizon'].astype('timedelta64[ns]')) / 10.\n",
    "    # Find the largest time resolution that has <1 unit per bin.\n",
    "    dts = ['D', 'h', 'm', 's', 'ms', 'us', 'ns']\n",
    "    dt_names = [\n",
    "        'days', 'hours', 'minutes', 'seconds', 'milliseconds', 'microseconds',\n",
    "        'nanoseconds'\n",
    "    ]\n",
    "    dt_conversions = [\n",
    "        24 * 60 * 60 * 10 ** 9,\n",
    "        60 * 60 * 10 ** 9,\n",
    "        60 * 10 ** 9,\n",
    "        10 ** 9,\n",
    "        10 ** 6,\n",
    "        10 ** 3,\n",
    "        1.,\n",
    "    ]\n",
    "    for i, dt in enumerate(dts):\n",
    "        if np.timedelta64(1, dt) < np.timedelta64(tick_w, 'ns'):\n",
    "            break\n",
    "\n",
    "    x_plt = df_none['horizon'].astype('timedelta64[ns]').astype(np.int64) / float(dt_conversions[i])\n",
    "    x_plt_h = df_h['horizon'].astype('timedelta64[ns]').astype(np.int64) / float(dt_conversions[i])\n",
    "\n",
    "    ax.plot(x_plt, df_none[metric], '.', alpha=0.1, c=point_color)\n",
    "    ax.plot(x_plt_h, df_h[metric], '-', c=color)\n",
    "    ax.grid(True)\n",
    "\n",
    "    ax.set_xlabel('Horizon ({})'.format(dt_names[i]))\n",
    "    ax.set_ylabel(metric)\n",
    "    return fig"
   ]
  },
  {
   "cell_type": "code",
   "execution_count": 3,
   "metadata": {},
   "outputs": [],
   "source": [
    "def is_weekend(ds):\n",
    "    date = pd.to_datetime(ds)\n",
    "    return (date.dayofweek == 5 or date.dayofweek == 6)"
   ]
  },
  {
   "cell_type": "markdown",
   "metadata": {
    "id": "rJD-ts6MxsSG"
   },
   "source": [
    "## Divvy hourly example"
   ]
  },
  {
   "cell_type": "markdown",
   "metadata": {
    "id": "7tptQWa2xsSG"
   },
   "source": [
    "### Prepare and inspect the data"
   ]
  },
  {
   "cell_type": "code",
   "execution_count": 4,
   "metadata": {
    "id": "DgOYMsNRxsSG"
   },
   "outputs": [],
   "source": [
    "df = pd.read_csv('https://raw.githubusercontent.com/raffg/prophet_presentation/main/data/divvy_hourly_with_temperature.csv')\n",
    "df['date'] = pd.to_datetime(df['date'])\n",
    "df.columns = ['ds', 'y', 'temperature', 'weather']"
   ]
  },
  {
   "cell_type": "code",
   "execution_count": 5,
   "metadata": {
    "id": "WBdoxo-9xsSH"
   },
   "outputs": [],
   "source": [
    "# Remove final 2 weeks of training data\n",
    "train = df[df['ds'] <= pd.to_datetime('2017-12-18 00:00:00')].copy()"
   ]
  },
  {
   "cell_type": "code",
   "execution_count": 6,
   "metadata": {
    "id": "9HB6p_tfxsSI"
   },
   "outputs": [
    {
     "name": "stderr",
     "output_type": "stream",
     "text": [
      "INFO:numexpr.utils:Note: NumExpr detected 12 cores but \"NUMEXPR_MAX_THREADS\" not set, so enforcing safe limit of 8.\n",
      "INFO:numexpr.utils:NumExpr defaulting to 8 threads.\n"
     ]
    },
    {
     "data": {
      "text/plain": [
       "<prophet.forecaster.Prophet at 0x7ffe27e86910>"
      ]
     },
     "execution_count": 6,
     "metadata": {},
     "output_type": "execute_result"
    }
   ],
   "source": [
    "# Basic model\n",
    "\n",
    "model1 = Prophet()\n",
    "model1.fit(train)"
   ]
  },
  {
   "cell_type": "code",
   "execution_count": 7,
   "metadata": {
    "id": "w94MFfoOxsSJ"
   },
   "outputs": [
    {
     "data": {
      "text/plain": [
       "<prophet.forecaster.Prophet at 0x7ffe29940d30>"
      ]
     },
     "execution_count": 7,
     "metadata": {},
     "output_type": "execute_result"
    }
   ],
   "source": [
    "# Advanced model\n",
    "\n",
    "df['rain_or_snow'] = df['weather'] == 'rain or snow'\n",
    "train['rain_or_snow'] = train['weather'] == 'rain or snow'\n",
    "\n",
    "model2 = Prophet(seasonality_mode='multiplicative',\n",
    "                yearly_seasonality=4,\n",
    "                weekly_seasonality=6,\n",
    "                daily_seasonality=False,\n",
    "                changepoint_prior_scale=.001)\n",
    "\n",
    "model2.add_country_holidays(country_name='US')\n",
    "\n",
    "model2.add_regressor('temperature')\n",
    "model2.add_regressor('rain_or_snow')\n",
    "\n",
    "df['weekend'] = df['ds'].apply(is_weekend)\n",
    "df['weekday'] = ~df['ds'].apply(is_weekend)\n",
    "\n",
    "train['weekend'] = train['ds'].apply(is_weekend)\n",
    "train['weekday'] = ~train['ds'].apply(is_weekend)\n",
    "\n",
    "model2.add_seasonality(name='daily_weekend',\n",
    "                      period=1,\n",
    "                      fourier_order=3,\n",
    "                      condition_name='weekend')\n",
    "model2.add_seasonality(name='daily_weekday',\n",
    "                      period=1,\n",
    "                      fourier_order=3,\n",
    "                      condition_name='weekday')\n",
    "\n",
    "model2.fit(train)"
   ]
  },
  {
   "cell_type": "code",
   "execution_count": 8,
   "metadata": {},
   "outputs": [
    {
     "data": {
      "text/plain": [
       "<prophet.forecaster.Prophet at 0x7ffe29c6ff40>"
      ]
     },
     "execution_count": 8,
     "metadata": {},
     "output_type": "execute_result"
    }
   ],
   "source": [
    "# Alternative model 1\n",
    "\n",
    "model3 = Prophet(seasonality_mode='additive')\n",
    "model3.add_country_holidays(country_name='US')\n",
    "model3.add_regressor('temperature')\n",
    "model3.add_regressor('rain_or_snow')\n",
    "model3.add_seasonality(name='daily_weekend',\n",
    "                      period=1,\n",
    "                      fourier_order=3,\n",
    "                      condition_name='weekend')\n",
    "model3.add_seasonality(name='daily_weekday',\n",
    "                      period=1,\n",
    "                      fourier_order=3,\n",
    "                      condition_name='weekday')\n",
    "model3.fit(train)"
   ]
  },
  {
   "cell_type": "code",
   "execution_count": 9,
   "metadata": {},
   "outputs": [
    {
     "data": {
      "text/plain": [
       "<prophet.forecaster.Prophet at 0x7ffe29c8e280>"
      ]
     },
     "execution_count": 9,
     "metadata": {},
     "output_type": "execute_result"
    }
   ],
   "source": [
    "# Alternative model 2\n",
    "\n",
    "model4= Prophet(seasonality_mode='multiplicative',\n",
    "                yearly_seasonality=2,\n",
    "                weekly_seasonality=2,\n",
    "                changepoint_prior_scale=.5)\n",
    "model4.add_country_holidays(country_name='US')\n",
    "model4.add_regressor('temperature')\n",
    "model4.add_regressor('rain_or_snow')\n",
    "model4.add_seasonality(name='daily_weekend',\n",
    "                      period=1,\n",
    "                      fourier_order=10,\n",
    "                      condition_name='weekend')\n",
    "model4.add_seasonality(name='daily_weekday',\n",
    "                      period=1,\n",
    "                      fourier_order=10,\n",
    "                      condition_name='weekday')\n",
    "model4.fit(train)"
   ]
  },
  {
   "cell_type": "markdown",
   "metadata": {
    "id": "D4N-BHhZxsSM"
   },
   "source": [
    "### Evaluate model performance"
   ]
  },
  {
   "cell_type": "code",
   "execution_count": 10,
   "metadata": {
    "colab": {
     "base_uri": "https://localhost:8080/"
    },
    "id": "rFxDoaZ_xsSM",
    "outputId": "7804f28e-af49-407c-c76f-b6951a63a7a7"
   },
   "outputs": [
    {
     "name": "stderr",
     "output_type": "stream",
     "text": [
      "INFO:prophet:Making 49 forecasts with cutoffs between 2017-01-02 00:00:00 and 2017-12-04 00:00:00\n",
      "INFO:prophet:Applying in parallel with <concurrent.futures.process.ProcessPoolExecutor object at 0x7ffe27e70ca0>\n"
     ]
    }
   ],
   "source": [
    "df_cv1 = cross_validation(model1,\n",
    "                         horizon='14 days',\n",
    "                         period='7 days',\n",
    "                         initial='1095 days',\n",
    "                         parallel='processes')"
   ]
  },
  {
   "cell_type": "code",
   "execution_count": 11,
   "metadata": {},
   "outputs": [
    {
     "name": "stderr",
     "output_type": "stream",
     "text": [
      "INFO:prophet:Making 49 forecasts with cutoffs between 2017-01-02 00:00:00 and 2017-12-04 00:00:00\n",
      "INFO:prophet:Applying in parallel with <concurrent.futures.process.ProcessPoolExecutor object at 0x7ffe27796790>\n"
     ]
    }
   ],
   "source": [
    "df_cv2 = cross_validation(model2,\n",
    "                         horizon='14 days',\n",
    "                         period='7 days',\n",
    "                         initial='1095 days',\n",
    "                         parallel='processes')"
   ]
  },
  {
   "cell_type": "code",
   "execution_count": 12,
   "metadata": {},
   "outputs": [
    {
     "name": "stderr",
     "output_type": "stream",
     "text": [
      "INFO:prophet:Making 49 forecasts with cutoffs between 2017-01-02 00:00:00 and 2017-12-04 00:00:00\n",
      "INFO:prophet:Applying in parallel with <concurrent.futures.process.ProcessPoolExecutor object at 0x7ffe01ec6220>\n"
     ]
    }
   ],
   "source": [
    "df_cv3 = cross_validation(model3,\n",
    "                         horizon='14 days',\n",
    "                         period='7 days',\n",
    "                         initial='1095 days',\n",
    "                         parallel='processes')"
   ]
  },
  {
   "cell_type": "code",
   "execution_count": null,
   "metadata": {},
   "outputs": [
    {
     "name": "stderr",
     "output_type": "stream",
     "text": [
      "INFO:prophet:Making 49 forecasts with cutoffs between 2017-01-02 00:00:00 and 2017-12-04 00:00:00\n",
      "INFO:prophet:Applying in parallel with <concurrent.futures.process.ProcessPoolExecutor object at 0x7ffe12c31d60>\n"
     ]
    }
   ],
   "source": [
    "df_cv4 = cross_validation(model4,\n",
    "                         horizon='14 days',\n",
    "                         period='7 days',\n",
    "                         initial='1095 days',\n",
    "                         parallel='processes')"
   ]
  },
  {
   "cell_type": "code",
   "execution_count": null,
   "metadata": {
    "colab": {
     "base_uri": "https://localhost:8080/",
     "height": 388
    },
    "id": "lofErY0JxsSM",
    "outputId": "a85cdea8-572f-4f9f-9ebd-e825fffd5a41"
   },
   "outputs": [],
   "source": [
    "fig = plot_cross_validation_metric(df_cv2, metric='mae')\n",
    "plt.show()"
   ]
  },
  {
   "cell_type": "code",
   "execution_count": null,
   "metadata": {},
   "outputs": [],
   "source": [
    "fig = plot_cross_validation_metric(df_cv1, metric='mae', color='#4285F4')\n",
    "plot_cross_validation_metric(df_cv2, metric='mae', ax=fig.gca(), color='#DB4437')\n",
    "plot_cross_validation_metric(df_cv3, metric='mae', ax=fig.gca(), color='#F4B400')\n",
    "plot_cross_validation_metric(df_cv4, metric='mae', ax=fig.gca(), color='#0F9D58')\n",
    "plt.show()"
   ]
  },
  {
   "cell_type": "code",
   "execution_count": null,
   "metadata": {},
   "outputs": [],
   "source": [
    "fig = plot_cross_validation_metric(df_cv1, metric='mae', color='#4285F4')\n",
    "plot_cross_validation_metric(df_cv2, metric='mae', ax=fig.gca(), color='#DB4437')\n",
    "plot_cross_validation_metric(df_cv3, metric='mae', ax=fig.gca(), color='#F4B400')\n",
    "plot_cross_validation_metric(df_cv4, metric='mae', ax=fig.gca(), color='#0F9D58')\n",
    "plt.show()"
   ]
  },
  {
   "cell_type": "code",
   "execution_count": null,
   "metadata": {},
   "outputs": [],
   "source": [
    "fig = plot_cross_validation_metric(df_cv1, metric='mae', color='#4285F4')\n",
    "plot_cross_validation_metric(df_cv2, metric='mae', ax=fig.gca(), color='#DB4437', point_color='None')\n",
    "plot_cross_validation_metric(df_cv3, metric='mae', ax=fig.gca(), color='#F4B400', point_color='None')\n",
    "plot_cross_validation_metric(df_cv4, metric='mae', ax=fig.gca(), color='#0F9D58', point_color='None')\n",
    "plt.show()"
   ]
  },
  {
   "cell_type": "code",
   "execution_count": null,
   "metadata": {},
   "outputs": [],
   "source": []
  },
  {
   "cell_type": "code",
   "execution_count": null,
   "metadata": {},
   "outputs": [],
   "source": [
    "from prophet.plot import plot_cross_validation_metric as plot_cv"
   ]
  },
  {
   "cell_type": "code",
   "execution_count": null,
   "metadata": {},
   "outputs": [],
   "source": [
    "fig = plot_cv(df_cv1, metric='mae', color='b')\n",
    "plot_cv(df_cv2, metric='mae', ax=fig.gca(), color='r')\n",
    "plot_cv(df_cv3, metric='mae', ax=fig.gca(), color='y')\n",
    "plot_cv(df_cv4, metric='mae', ax=fig.gca(), color='g')\n",
    "plt.show()"
   ]
  },
  {
   "cell_type": "code",
   "execution_count": null,
   "metadata": {},
   "outputs": [],
   "source": [
    "fig = plot_cross_validation_metric(df_cv1, metric='mae', color='b')\n",
    "plot_cross_validation_metric(df_cv2, metric='mae', ax=fig.gca(), color='r')\n",
    "plot_cross_validation_metric(df_cv3, metric='mae', ax=fig.gca(), color='y')\n",
    "plot_cross_validation_metric(df_cv4, metric='mae', ax=fig.gca(), color='g')\n",
    "plt.show()"
   ]
  },
  {
   "cell_type": "code",
   "execution_count": null,
   "metadata": {},
   "outputs": [],
   "source": [
    "fig = plot_cross_validation_metric(df_cv1, metric='mae', color='b')\n",
    "plot_cross_validation_metric(df_cv2, metric='mae', ax=fig.gca(), color='r', point_color='None')\n",
    "plot_cross_validation_metric(df_cv3, metric='mae', ax=fig.gca(), color='y', point_color='None')\n",
    "plot_cross_validation_metric(df_cv4, metric='mae', ax=fig.gca(), color='g', point_color='None')\n",
    "plt.show()"
   ]
  },
  {
   "cell_type": "code",
   "execution_count": null,
   "metadata": {},
   "outputs": [],
   "source": [
    "fig = plot_cross_validation_metric(df_cv1, metric='mae', color='b', point_color='b')\n",
    "plot_cross_validation_metric(df_cv2, metric='mae', ax=fig.gca(), color='r', point_color='r')\n",
    "plot_cross_validation_metric(df_cv3, metric='mae', ax=fig.gca(), color='y', point_color='y')\n",
    "plot_cross_validation_metric(df_cv4, metric='mae', ax=fig.gca(), color='g', point_color='g')\n",
    "plt.show()"
   ]
  },
  {
   "cell_type": "code",
   "execution_count": null,
   "metadata": {},
   "outputs": [],
   "source": []
  }
 ],
 "metadata": {
  "colab": {
   "collapsed_sections": [],
   "name": "Prophet Colab",
   "provenance": []
  },
  "kernelspec": {
   "display_name": "Python 3",
   "language": "python",
   "name": "python3"
  },
  "language_info": {
   "codemirror_mode": {
    "name": "ipython",
    "version": 3
   },
   "file_extension": ".py",
   "mimetype": "text/x-python",
   "name": "python",
   "nbconvert_exporter": "python",
   "pygments_lexer": "ipython3",
   "version": "3.8.3"
  }
 },
 "nbformat": 4,
 "nbformat_minor": 4
}
