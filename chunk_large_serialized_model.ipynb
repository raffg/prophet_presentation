{
 "cells": [
  {
   "cell_type": "code",
   "execution_count": 1,
   "metadata": {},
   "outputs": [],
   "source": [
    "import json"
   ]
  },
  {
   "cell_type": "code",
   "execution_count": 2,
   "metadata": {},
   "outputs": [],
   "source": [
    "# Open json file from hard drive\n",
    "with open('divvy_hourly_mcmc.json', 'r') as f_in:\n",
    "    file = json.load(f_in)"
   ]
  },
  {
   "cell_type": "code",
   "execution_count": 3,
   "metadata": {},
   "outputs": [],
   "source": [
    "# Convert json to string\n",
    "string = json.dumps(file)"
   ]
  },
  {
   "cell_type": "code",
   "execution_count": 4,
   "metadata": {},
   "outputs": [],
   "source": [
    "# Define n as the number of chunks\n",
    "n = 5\n",
    "length = int(len(string) / n)"
   ]
  },
  {
   "cell_type": "code",
   "execution_count": 8,
   "metadata": {},
   "outputs": [],
   "source": [
    "# Split the file into n chunks and save to dictionary\n",
    "files = {}\n",
    "for i in range(n):\n",
    "    chunk = string[i * length: (i + 1) * length]\n",
    "    files['divvy_hourly_mcmc_{}'.format(i)] = chunk"
   ]
  },
  {
   "cell_type": "code",
   "execution_count": 10,
   "metadata": {},
   "outputs": [],
   "source": [
    "# Save each chunk sequentially back to the hard drive\n",
    "for i in range(n):\n",
    "    with open('divvy_hourly_mcmc_{}.txt'.format(i), 'w') as f_out:\n",
    "        f_out.write(files['divvy_hourly_mcmc_{}'.format(i)])"
   ]
  },
  {
   "cell_type": "code",
   "execution_count": null,
   "metadata": {},
   "outputs": [],
   "source": []
  }
 ],
 "metadata": {
  "kernelspec": {
   "display_name": "Python 3",
   "language": "python",
   "name": "python3"
  },
  "language_info": {
   "codemirror_mode": {
    "name": "ipython",
    "version": 3
   },
   "file_extension": ".py",
   "mimetype": "text/x-python",
   "name": "python",
   "nbconvert_exporter": "python",
   "pygments_lexer": "ipython3",
   "version": "3.8.3"
  }
 },
 "nbformat": 4,
 "nbformat_minor": 4
}
